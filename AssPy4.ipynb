{
 "cells": [
  {
   "cell_type": "markdown",
   "id": "8e5b0177-2684-4435-a74c-d8cb3d2e18f4",
   "metadata": {},
   "source": [
    "Q1. Create a python program to sort the given list of tuples based on integer value using a\n",
    "lambda function.\n",
    "[('Sachin Tendulkar', 34357), ('Ricky Ponting', 27483), ('Jack Kallis', 25534), ('Virat Kohli', 24936)]"
   ]
  },
  {
   "cell_type": "markdown",
   "id": "9c356a01-d1ee-4425-9467-9c0b8df6739e",
   "metadata": {},
   "source": [
    "Answer"
   ]
  },
  {
   "cell_type": "code",
   "execution_count": 122,
   "id": "928f89c7-b166-4017-b1f4-39824719e729",
   "metadata": {},
   "outputs": [
    {
     "data": {
      "text/plain": [
       "[('Virat Kohli', 24936),\n",
       " ('Jack Kallis', 25534),\n",
       " ('Ricky Ponting', 27483),\n",
       " ('Sachin Tendulkar', 34357)]"
      ]
     },
     "execution_count": 122,
     "metadata": {},
     "output_type": "execute_result"
    }
   ],
   "source": [
    "a = [('Sachin Tendulkar', 34357), ('Ricky Ponting', 27483), ('Jack Kallis', 25534), ('Virat Kohli', 24936)]\n",
    "d = sorted(a, key=lambda x:x[1])\n",
    "d"
   ]
  },
  {
   "cell_type": "markdown",
   "id": "64754038-104d-4413-8288-e124c5eed61c",
   "metadata": {},
   "source": [
    "Q2. Write a Python Program to find the squares of all the numbers in the given list of integers using\n",
    "lambda and map functions.\n",
    "[1, 2, 3, 4, 5, 6, 7, 8, 9, 10]"
   ]
  },
  {
   "cell_type": "markdown",
   "id": "bfdfacac-6df2-48b6-b78a-d73e36ff47dd",
   "metadata": {},
   "source": [
    "Answer"
   ]
  },
  {
   "cell_type": "code",
   "execution_count": 123,
   "id": "295cad6f-b944-4b2d-bf32-22a30071f78b",
   "metadata": {},
   "outputs": [
    {
     "data": {
      "text/plain": [
       "[1, 4, 9, 16, 25, 36, 49, 64, 81, 100]"
      ]
     },
     "execution_count": 123,
     "metadata": {},
     "output_type": "execute_result"
    }
   ],
   "source": [
    "#1-\n",
    "l = [1, 2, 3, 4, 5, 6, 7, 8, 9, 10]\n",
    "list(map(lambda x : x**2 , l ))"
   ]
  },
  {
   "cell_type": "code",
   "execution_count": 124,
   "id": "bbcdc622-ef00-4854-9a10-37324202acba",
   "metadata": {},
   "outputs": [],
   "source": [
    "#or\n",
    "def sq(x):\n",
    "    return x**2"
   ]
  },
  {
   "cell_type": "code",
   "execution_count": 125,
   "id": "a543c4e6-65c0-42cc-8909-628f174ad2ea",
   "metadata": {},
   "outputs": [
    {
     "data": {
      "text/plain": [
       "[1, 4, 9, 16, 25, 36, 49, 64, 81, 100]"
      ]
     },
     "execution_count": 125,
     "metadata": {},
     "output_type": "execute_result"
    }
   ],
   "source": [
    "list(map(sq , l))"
   ]
  },
  {
   "cell_type": "markdown",
   "id": "62b72efa-9b98-4f6e-b83d-eeb8e49d0abf",
   "metadata": {},
   "source": [
    "Q3. Write a python program to convert the given list of integers into a tuple of strings. Use map and\n",
    "lambda functions\n",
    "Given String: [1, 2, 3, 4, 5, 6, 7, 8, 9, 10]\n",
    "Expected output: ('1', '2', '3', '4', '5', '6', '7', '8', '9', '10')"
   ]
  },
  {
   "cell_type": "markdown",
   "id": "23d41bed-6c1a-4111-8917-90c25e9f7856",
   "metadata": {},
   "source": [
    "Answer"
   ]
  },
  {
   "cell_type": "code",
   "execution_count": 126,
   "id": "132a6006-513d-48a0-b7f1-b4d0d9b3066b",
   "metadata": {},
   "outputs": [
    {
     "data": {
      "text/plain": [
       "('1', '2', '3', '4', '5', '6', '7', '8', '9', '10')"
      ]
     },
     "execution_count": 126,
     "metadata": {},
     "output_type": "execute_result"
    }
   ],
   "source": [
    "l = [1, 2, 3, 4, 5, 6, 7, 8, 9, 10]\n",
    "tuple(list(map(lambda x : str(x) , l )))"
   ]
  },
  {
   "cell_type": "markdown",
   "id": "22e5db2a-5bb6-40e9-b2a4-91c63d4fc580",
   "metadata": {},
   "source": [
    "Q4. Write a python program using reduce function to compute the product of a list containing numbers\n",
    "from 1 to 25."
   ]
  },
  {
   "cell_type": "markdown",
   "id": "b7cc4a1a-60a5-4aba-9af7-14f9358eb90e",
   "metadata": {},
   "source": [
    "Answer"
   ]
  },
  {
   "cell_type": "code",
   "execution_count": 127,
   "id": "5cbb7112-ce14-4ff0-a1f9-efa6a766d595",
   "metadata": {},
   "outputs": [
    {
     "data": {
      "text/plain": [
       "15511210043330985984000000"
      ]
     },
     "execution_count": 127,
     "metadata": {},
     "output_type": "execute_result"
    }
   ],
   "source": [
    "num = list(range(1,26))\n",
    "reduce(lambda x , y : x*y , (num))"
   ]
  },
  {
   "cell_type": "markdown",
   "id": "67554443-8784-4e94-8302-65f8ffe36b00",
   "metadata": {},
   "source": [
    "Q5. Write a python program to filter the numbers in a given list that are divisible by 2 and 3 using the\n",
    "filter function.\n",
    "[2, 3, 6, 9, 27, 60, 90, 120, 55, 46]"
   ]
  },
  {
   "cell_type": "markdown",
   "id": "30652fb0-a1c3-42fc-b629-8f0e2a15f091",
   "metadata": {},
   "source": [
    "Answer"
   ]
  },
  {
   "cell_type": "code",
   "execution_count": 128,
   "id": "e6d967fc-188b-4d74-9e6a-0e93d56a4d2e",
   "metadata": {},
   "outputs": [
    {
     "data": {
      "text/plain": [
       "[6, 60, 90, 120]"
      ]
     },
     "execution_count": 128,
     "metadata": {},
     "output_type": "execute_result"
    }
   ],
   "source": [
    "l = [2, 3, 6, 9, 27, 60, 90, 120, 55, 46]\n",
    "list(filter(lambda x: x % 2 == 0 and x % 3 ==0, l))"
   ]
  },
  {
   "cell_type": "markdown",
   "id": "cc778b9a-6101-422e-b431-5d0c389e6e8d",
   "metadata": {},
   "source": [
    "Q6. Write a python program to find palindromes in the given list of strings using lambda and filter\n",
    "function.\n",
    "['python', 'php', 'aba', 'radar', 'level']"
   ]
  },
  {
   "cell_type": "markdown",
   "id": "32794dc8-8021-4481-9457-aba7e37a9245",
   "metadata": {},
   "source": [
    "Answer"
   ]
  },
  {
   "cell_type": "code",
   "execution_count": 129,
   "id": "4d2dd9b0-ecf2-47d7-b776-850fb0267494",
   "metadata": {},
   "outputs": [
    {
     "data": {
      "text/plain": [
       "['php', 'aba', 'radar', 'level']"
      ]
     },
     "execution_count": 129,
     "metadata": {},
     "output_type": "execute_result"
    }
   ],
   "source": [
    "#method1\n",
    "l = ['python', 'php', 'aba', 'radar', 'level']\n",
    "list(filter(lambda x: (x == x[::-1]) , l))"
   ]
  },
  {
   "cell_type": "code",
   "execution_count": 130,
   "id": "54760240-8d16-45a7-9a51-c27d0e2fde8e",
   "metadata": {},
   "outputs": [
    {
     "data": {
      "text/plain": [
       "['php', 'aba', 'radar', 'level']"
      ]
     },
     "execution_count": 130,
     "metadata": {},
     "output_type": "execute_result"
    }
   ],
   "source": [
    "#method2\n",
    "l = ['python', 'php', 'aba', 'radar', 'level']\n",
    "list(filter(lambda x: (x == \"\".join(reversed(x))) , l))"
   ]
  }
 ],
 "metadata": {
  "kernelspec": {
   "display_name": "Python 3 (ipykernel)",
   "language": "python",
   "name": "python3"
  },
  "language_info": {
   "codemirror_mode": {
    "name": "ipython",
    "version": 3
   },
   "file_extension": ".py",
   "mimetype": "text/x-python",
   "name": "python",
   "nbconvert_exporter": "python",
   "pygments_lexer": "ipython3",
   "version": "3.10.8"
  }
 },
 "nbformat": 4,
 "nbformat_minor": 5
}
