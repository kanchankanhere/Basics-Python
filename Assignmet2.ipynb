{
 "cells": [
  {
   "cell_type": "markdown",
   "id": "5c4091eb-8e63-46eb-8e0d-516db2384c52",
   "metadata": {},
   "source": [
    "Q1. How do you comment code in Python? What are the different types of comments?"
   ]
  },
  {
   "cell_type": "code",
   "execution_count": 14,
   "id": "18ad17d7-06a4-4fcf-bd05-7e2da6300330",
   "metadata": {},
   "outputs": [
    {
     "name": "stdout",
     "output_type": "stream",
     "text": [
      "Hello, World!\n",
      "This is awesome\n",
      "You are the best.\n",
      "I am the best.\n",
      "Data Scientist\n"
     ]
    }
   ],
   "source": [
    "#Answer\n",
    "\"\"\"It can be used to explain Python code, to make the code more readable and to prevent execution when testing code.\n",
    "Different type of comments:\n",
    "1) Single line comments\n",
    "2) Multiline Comments\n",
    "\"\"\"\n",
    "\n",
    "#Creating a comment\n",
    "#1) Singleline comments-\n",
    "\n",
    "# It starts with a #, and Python will ignore them.\n",
    "#example-\n",
    "#This is a comment\n",
    "print(\"Hello, World!\")\n",
    "\n",
    "# It can be placed at the end of a line, and Python will ignore the rest of the line.\n",
    "#example\n",
    "print(\"This is awesome\") #This is a comment\n",
    "\n",
    "# It does not have to be text that explains the code.\n",
    "#example\n",
    "#print(\"Hello, World!\")\n",
    "print(\"You are the best.\")\n",
    "\n",
    "# 2) Multiline Comments-\n",
    "\n",
    "#Python does not really have a syntax for multiline comments.To add a multiline comment, insert a # for each line.\n",
    "#example\n",
    "#This is a comment\n",
    "#written in\n",
    "#more than just one line\n",
    "print(\"I am the best.\")\n",
    "\n",
    "#multiline string- Since Python will ignore string literals that are not assigned to a variable, \n",
    "# add a multiline string (triple quotes) in the code, and place the comment inside it:\n",
    "#example\n",
    "\"\"\"\n",
    "This is a comment\n",
    "written in\n",
    "more than just one line\n",
    "\"\"\"\n",
    "print(\"Data Scientist\")"
   ]
  },
  {
   "cell_type": "markdown",
   "id": "935d9ae5-6670-47e2-be3e-12797b237577",
   "metadata": {},
   "source": [
    "Q2. What are variables in Python? How do you declare and assign values to variables?"
   ]
  },
  {
   "cell_type": "code",
   "execution_count": 19,
   "id": "96a44520-7cee-4d16-9600-a6a90880efaf",
   "metadata": {},
   "outputs": [
    {
     "name": "stdout",
     "output_type": "stream",
     "text": [
      "45\n",
      "Kanchan\n",
      "10.244\n",
      "(24+8j)\n",
      "luck\n"
     ]
    }
   ],
   "source": [
    "#Answer\n",
    "\"\"\"\n",
    "Variables-\n",
    "These are containers for storing data values. Python has no command for declaring it.\n",
    "It is created the moment when assign a first value to it.\n",
    "It do not need to be declared with any particular type, and can even change type after they have been set.\n",
    "Python allows to assign values to multiple variables in one line and also assign the same value to multiple variables in one line.\n",
    "\"\"\"\n",
    "#Rules of declaring a Variable\n",
    "\"\"\" A variable name must start with a letter or the underscore character\n",
    "A variable name cannot start with a number\n",
    "A variable name can only contain alpha-numeric characters and underscores (A-z, 0-9, and _ )\n",
    "Variable names are case-sensitive (age, Age and AGE are three different variables)\n",
    "A variable name cannot be any of the Python keywords.\n",
    "There should not be a gap while declaring a varianle.\n",
    "\"\"\"\n",
    "#Assigning values to variables\n",
    "\n",
    "a = 45\n",
    "b = 'Kanchan'\n",
    "_A = 10.244\n",
    "B = 24+8j\n",
    "luck12 = \"luck\"\n",
    "print(a)\n",
    "print(b)\n",
    "print(_A)\n",
    "print(B)\n",
    "print(luck12)"
   ]
  },
  {
   "cell_type": "markdown",
   "id": "adbee3bc-983d-4070-86a7-daaec9576eab",
   "metadata": {},
   "source": [
    "Q3. How do you convert one data type to another in Python?"
   ]
  },
  {
   "cell_type": "code",
   "execution_count": 7,
   "id": "7a799cb1-0d00-4871-8870-cb34b278a350",
   "metadata": {},
   "outputs": [
    {
     "name": "stdout",
     "output_type": "stream",
     "text": [
      "1.0\n",
      "2\n",
      "(1+0j)\n",
      "<class 'float'>\n",
      "<class 'int'>\n",
      "<class 'complex'>\n"
     ]
    }
   ],
   "source": [
    "#Answer\n",
    "x = 1    # int\n",
    "y = 2.8  # float\n",
    "z = 1j   # complex\n",
    "\n",
    "#convert from int to float:\n",
    "a = float(x)\n",
    "\n",
    "#convert from float to int:\n",
    "b = int(y)\n",
    "\n",
    "#convert from int to complex:\n",
    "c = complex(x)\n",
    "\n",
    "print(a)\n",
    "print(b)\n",
    "print(c)\n",
    "\n",
    "print(type(a))\n",
    "print(type(b))\n",
    "print(type(c))"
   ]
  },
  {
   "cell_type": "markdown",
   "id": "9e470b4a-c75d-428d-8c7b-ace70bba3f91",
   "metadata": {},
   "source": [
    "Q4. How do you write and execute a Python script from the command line?"
   ]
  },
  {
   "cell_type": "code",
   "execution_count": 11,
   "id": "7d44265c-b7f8-4404-9953-e46df0006283",
   "metadata": {},
   "outputs": [],
   "source": [
    "#Answer\n",
    "#Open a text editor and create a new file and enter Python code and Save the file with a '.py' extension.\n",
    "#Now open the command prompt and navigate to the directory where Python script is saved using the 'cd' command.\n",
    "#then script can be executed by typing 'Python' followed by script's file name and press ENTER, and we can see the output of the script. "
   ]
  },
  {
   "cell_type": "markdown",
   "id": "727319be-341e-42b9-8536-d6adc68965fc",
   "metadata": {},
   "source": [
    "Q5. Given a list my_list = [1, 2, 3, 4, 5], write the code to slice the list and obtain the sub-list [2, 3]."
   ]
  },
  {
   "cell_type": "code",
   "execution_count": 12,
   "id": "0fcc21dd-6137-41ac-a088-4196fe0599df",
   "metadata": {},
   "outputs": [
    {
     "name": "stdout",
     "output_type": "stream",
     "text": [
      "[2, 3]\n"
     ]
    }
   ],
   "source": [
    "#answer\n",
    "my_list = [1,2,3,4,5]\n",
    "print(my_list[1:3])"
   ]
  },
  {
   "cell_type": "markdown",
   "id": "2a566caf-41bd-4759-8c4d-83e4aed62500",
   "metadata": {},
   "source": [
    "Q6. What is a complex number in mathematics, and how is it represented in Python?"
   ]
  },
  {
   "cell_type": "code",
   "execution_count": 13,
   "id": "6775e613-b246-488e-909c-3825df5c23dc",
   "metadata": {},
   "outputs": [
    {
     "name": "stdout",
     "output_type": "stream",
     "text": [
      "<class 'complex'>\n",
      "<class 'complex'>\n",
      "<class 'complex'>\n"
     ]
    }
   ],
   "source": [
    "#Answer\n",
    "#Complex numbers are written with a \"j\" as the imaginary part\n",
    "#It has both real and imaginary part.\n",
    "\n",
    "x = 3+5j\n",
    "y = 5j\n",
    "z = -5j\n",
    "\n",
    "print(type(x))\n",
    "print(type(y))\n",
    "print(type(z))"
   ]
  },
  {
   "cell_type": "markdown",
   "id": "1247fc1e-4eb5-4890-956a-08ee3707b0bd",
   "metadata": {},
   "source": [
    "Q7. What is the correct way to declare a variable named age and assign the value 25 to it?"
   ]
  },
  {
   "cell_type": "code",
   "execution_count": 14,
   "id": "615a153c-fc1c-42da-95fc-5e214e0ee8e5",
   "metadata": {},
   "outputs": [
    {
     "data": {
      "text/plain": [
       "25"
      ]
     },
     "execution_count": 14,
     "metadata": {},
     "output_type": "execute_result"
    }
   ],
   "source": [
    "#Answer\n",
    "Age = 25\n",
    "Age"
   ]
  },
  {
   "cell_type": "markdown",
   "id": "bf446b9c-f399-4582-bd16-90086a51cdd5",
   "metadata": {},
   "source": [
    "Q8. Declare a variable named price and assign the value 9.99 to it. What data type does this variable\n",
    "belong to?"
   ]
  },
  {
   "cell_type": "code",
   "execution_count": 15,
   "id": "65cdae7f-b809-4177-b5de-3e3bd8a75dbc",
   "metadata": {},
   "outputs": [
    {
     "data": {
      "text/plain": [
       "float"
      ]
     },
     "execution_count": 15,
     "metadata": {},
     "output_type": "execute_result"
    }
   ],
   "source": [
    "#Answer\n",
    "price = 9.99\n",
    "type(price)"
   ]
  },
  {
   "cell_type": "markdown",
   "id": "f39e483a-860b-4ff1-a121-5a8fe6c7b2a9",
   "metadata": {},
   "source": [
    "Q9. Create a variable named name and assign your full name to it as a string. How would you print the\n",
    "value of this variable?"
   ]
  },
  {
   "cell_type": "code",
   "execution_count": 20,
   "id": "42cd8ac7-5b52-45df-b054-d280702f2915",
   "metadata": {},
   "outputs": [
    {
     "name": "stdout",
     "output_type": "stream",
     "text": [
      "Kanchan Kanhere\n"
     ]
    }
   ],
   "source": [
    "#Answer\n",
    "Name = 'Kanchan Kanhere'\n",
    "print(Name)"
   ]
  },
  {
   "cell_type": "markdown",
   "id": "3ff190a4-ac15-4ae9-bedf-9e5ad9c4f439",
   "metadata": {},
   "source": [
    "Q10. Given the string \"Hello, World!\", extract the substring \"World\"."
   ]
  },
  {
   "cell_type": "code",
   "execution_count": 23,
   "id": "ca273d96-16cb-4e65-8180-077d2b4fecee",
   "metadata": {},
   "outputs": [
    {
     "data": {
      "text/plain": [
       "' World'"
      ]
     },
     "execution_count": 23,
     "metadata": {},
     "output_type": "execute_result"
    }
   ],
   "source": [
    "#Answer\n",
    "s = \"Hello, World!\"\n",
    "s[6:12]"
   ]
  },
  {
   "cell_type": "markdown",
   "id": "371df3bb-3845-472d-acd9-dad66a3cd08c",
   "metadata": {},
   "source": [
    "Q11. Create a variable named \"is_student\" and assign it a boolean value indicating whether you are\n",
    "currently a student or not."
   ]
  },
  {
   "cell_type": "code",
   "execution_count": 57,
   "id": "6f8465bf-38c1-426a-8ce1-a8d8593e1f9c",
   "metadata": {},
   "outputs": [
    {
     "name": "stdout",
     "output_type": "stream",
     "text": [
      "Currently a student\n"
     ]
    }
   ],
   "source": [
    "is_student = True\n",
    "if is_student == True:\n",
    "    print(\"Currently a student\")\n",
    "else :\n",
    "    print(\"Currently not a student\")"
   ]
  }
 ],
 "metadata": {
  "kernelspec": {
   "display_name": "Python 3 (ipykernel)",
   "language": "python",
   "name": "python3"
  },
  "language_info": {
   "codemirror_mode": {
    "name": "ipython",
    "version": 3
   },
   "file_extension": ".py",
   "mimetype": "text/x-python",
   "name": "python",
   "nbconvert_exporter": "python",
   "pygments_lexer": "ipython3",
   "version": "3.10.8"
  }
 },
 "nbformat": 4,
 "nbformat_minor": 5
}
