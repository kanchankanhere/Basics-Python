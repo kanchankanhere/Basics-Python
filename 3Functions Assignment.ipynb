{
 "cells": [
  {
   "cell_type": "markdown",
   "id": "9b4648b4-dd47-46ff-8421-9b58bc8c9381",
   "metadata": {},
   "source": [
    "Q1. Which keyword is used to create a function? Create a function to return a list of odd numbers in the\n",
    "range of 1 to 25."
   ]
  },
  {
   "cell_type": "markdown",
   "id": "c546b3b0-2369-4aaa-8ace-7726a0807462",
   "metadata": {},
   "source": [
    "Answer"
   ]
  },
  {
   "cell_type": "markdown",
   "id": "ecf78285-068a-4048-80c7-2d4d1770e079",
   "metadata": {},
   "source": [
    "\"Def\" keyword is used to create a function."
   ]
  },
  {
   "cell_type": "code",
   "execution_count": 98,
   "id": "f1b52e1f-cb53-4df0-92fc-b8206b9b9542",
   "metadata": {},
   "outputs": [],
   "source": [
    "def odd_numbers():\n",
    "    list = []\n",
    "    for i in range(1, 26):\n",
    "        if i % 2 != 0:\n",
    "            list.append(i)\n",
    "           \n",
    "    return list"
   ]
  },
  {
   "cell_type": "code",
   "execution_count": 103,
   "id": "d2801505-18c0-4dcc-a6ff-72ef7945cf43",
   "metadata": {},
   "outputs": [
    {
     "data": {
      "text/plain": [
       "[1, 3, 5, 7, 9, 11, 13, 15, 17, 19, 21, 23, 25]"
      ]
     },
     "execution_count": 103,
     "metadata": {},
     "output_type": "execute_result"
    }
   ],
   "source": [
    "odd_numbers()"
   ]
  },
  {
   "cell_type": "markdown",
   "id": "cf1dc8a6-4a17-4750-ab24-9f088bdfea68",
   "metadata": {},
   "source": [
    "Q2. Why *args and **kwargs is used in some functions? Create a function each for *args and **kwargs to\n",
    "demonstrate their use."
   ]
  },
  {
   "cell_type": "markdown",
   "id": "b1fa5962-3f00-4b9e-86a6-2ec1cddeac4b",
   "metadata": {},
   "source": [
    "Answer"
   ]
  },
  {
   "cell_type": "code",
   "execution_count": 116,
   "id": "af9bfcab-1afd-4eda-9163-841530f86a6c",
   "metadata": {},
   "outputs": [
    {
     "data": {
      "text/plain": [
       "((), tuple)"
      ]
     },
     "execution_count": 116,
     "metadata": {},
     "output_type": "execute_result"
    }
   ],
   "source": [
    "#*args-\n",
    "#It allows the function to take a variable number of positional arguments.\n",
    "#It is used as a parameter in the function definition and collects all remaining positional arguments into a tuple.\n",
    "def test(*args):\n",
    "    return args\n",
    "test(), type(test())"
   ]
  },
  {
   "cell_type": "code",
   "execution_count": 115,
   "id": "9a8001a0-e630-411b-9030-ff0819930152",
   "metadata": {},
   "outputs": [
    {
     "data": {
      "text/plain": [
       "['', 'kanchan', 'data', 'pwskills']"
      ]
     },
     "execution_count": 115,
     "metadata": {},
     "output_type": "execute_result"
    }
   ],
   "source": [
    "#example- Find a str in any given number of arguments\n",
    "def test(*args):\n",
    "    s = [\"\"]\n",
    "    for i in args:\n",
    "        if type(i) == str:\n",
    "            s.append(i)\n",
    "    return s\n",
    "\n",
    "test(1,2,7, [33,5,45], \"kanchan\",\"data\", 23.768, \"pwskills\", [13,456,787])"
   ]
  },
  {
   "cell_type": "code",
   "execution_count": 117,
   "id": "8cccbece-a309-438c-bb3e-0a1845388d53",
   "metadata": {},
   "outputs": [
    {
     "data": {
      "text/plain": [
       "{'a': 1, 'b': 'pwskills', 'c': 4545, 'd': 'Kanchan'}"
      ]
     },
     "execution_count": 117,
     "metadata": {},
     "output_type": "execute_result"
    }
   ],
   "source": [
    "#**kwargs-\n",
    "#It allows the function to take a variable number of keyword arguments.\n",
    "#It is used as a parameter in the function definition and collects all remaining keyword arguments into a dictionary.\n",
    "def test(**kwargs):\n",
    "    return kwargs\n",
    "\n",
    "test(a=1, b='pwskills', c= 4545, d=\"Kanchan\")"
   ]
  },
  {
   "cell_type": "markdown",
   "id": "8ba08d5a-595d-4837-8966-316cb5f4f2eb",
   "metadata": {},
   "source": [
    "Q3. What is an iterator in python? Name the method used to initialise the iterator object and the method\n",
    "used for iteration. Use these methods to print the first five elements of the given list [2, 4, 6, 8, 10, 12, 14, 16,\n",
    "18, 20]."
   ]
  },
  {
   "cell_type": "markdown",
   "id": "6a0004da-5ee3-4c16-9f9d-e45c1cad3fa6",
   "metadata": {},
   "source": [
    "Answer"
   ]
  },
  {
   "cell_type": "code",
   "execution_count": 118,
   "id": "91741489-1923-4caa-a249-c6246f31b5cd",
   "metadata": {},
   "outputs": [
    {
     "name": "stdout",
     "output_type": "stream",
     "text": [
      "2\n",
      "4\n",
      "6\n",
      "8\n",
      "10\n"
     ]
    }
   ],
   "source": [
    "###iterator\n",
    "#An iterator in Python is an object that contains a countable number of elements that can be iterated upon.\n",
    "#It allows to traverse through all the elements of a collection one by one and return one element at a time.\n",
    "#It is an object which implements the iterator protocol, which consist of the methods __iter__() and __next__().\n",
    "\n",
    "#The method used to initialise the iterator object is __iter__() function \n",
    "# __iter__() -It returns the iterator object itself.\n",
    "#The method used for iteration is \"for loop\" and  __next__() function.\n",
    "# __next__() - This method returns the next item from the container. \n",
    "#If there are no further items, raise the StopIteration exception.\n",
    "\n",
    "l = [2, 4, 6, 8, 10, 12, 14, 16, 18, 20]\n",
    "my_it = iter(l)\n",
    "for l in range(5):\n",
    "    element = next(my_it)\n",
    "    print(element)"
   ]
  },
  {
   "cell_type": "markdown",
   "id": "09118207-1fec-47b0-8fb4-ad749423bf07",
   "metadata": {},
   "source": [
    "Q4. What is a generator function in python? Why yield keyword is used? Give an example of a generator\n",
    "function."
   ]
  },
  {
   "cell_type": "markdown",
   "id": "04d677e4-be79-4542-8382-bbbf6d277533",
   "metadata": {},
   "source": [
    "Answer"
   ]
  },
  {
   "cell_type": "code",
   "execution_count": null,
   "id": "1422b39e-40ef-45b7-8b27-e84d27a8fe5d",
   "metadata": {},
   "outputs": [],
   "source": [
    "#A generator function is a special type of function that can be used to generate a sequence of values over time, \n",
    "#instead of computing all the values at once and returning them in a list. \n",
    "#It uses the yield keyword instead of return to produce a value.\n",
    "#Each time the generator function is called, it resumes execution from where it was paused and runs until it encounters the next yield statement.\n",
    "#IT is a kind of function that returns an object called a generator object which can return a series of values rather than a single value.\n",
    "#It is typically defined with the def keyword.\n",
    "#It do not store all the values in memory, they generate the values on the fly.\n",
    "\n",
    "#The yield keyword is used to define the points at which the generator function will pause and produce a value. \n",
    "#When the function encounters a yield statement, it returns the value specified after the keyword and suspends its execution state. \n",
    "#The next time the generator is called, execution resumes from where it left off, picking up right after the last yield statement."
   ]
  },
  {
   "cell_type": "code",
   "execution_count": 131,
   "id": "866c7211-e4f5-4f0a-8297-745ecef10b19",
   "metadata": {},
   "outputs": [
    {
     "name": "stdout",
     "output_type": "stream",
     "text": [
      "0\n",
      "1\n",
      "2\n",
      "3\n",
      "4\n",
      "5\n",
      "6\n",
      "7\n",
      "8\n"
     ]
    }
   ],
   "source": [
    "def range(n) :\n",
    "    i = 0\n",
    "    while i < n:\n",
    "        yield i\n",
    "        i += 1\n",
    "        \n",
    "for i in range(9):\n",
    "    print(i)"
   ]
  },
  {
   "cell_type": "markdown",
   "id": "19c08740-9460-4434-959f-b1fb262b4d50",
   "metadata": {},
   "source": [
    "Q5. Create a generator function for prime numbers less than 1000. Use the next() method to print the\n",
    "first 20 prime numbers."
   ]
  },
  {
   "cell_type": "markdown",
   "id": "0840495c-3214-4079-996a-f77b89e80e18",
   "metadata": {},
   "source": [
    "Answer"
   ]
  },
  {
   "cell_type": "code",
   "execution_count": 162,
   "id": "7ec8f7f1-8d12-4835-a0b8-2013326d6021",
   "metadata": {},
   "outputs": [
    {
     "name": "stdout",
     "output_type": "stream",
     "text": [
      "2\n",
      "3\n",
      "5\n",
      "7\n",
      "11\n",
      "13\n",
      "17\n",
      "19\n",
      "23\n",
      "29\n",
      "31\n",
      "37\n",
      "41\n",
      "43\n",
      "47\n",
      "53\n",
      "59\n",
      "61\n",
      "67\n",
      "71\n"
     ]
    }
   ],
   "source": [
    "def prime_num():\n",
    "    p = []\n",
    "    i = 2\n",
    "    while i < 1000 :\n",
    "        prime = True\n",
    "        \n",
    "        for prime in p:\n",
    "            if i % prime == 0:\n",
    "                prime = False\n",
    "                break\n",
    "        if prime:\n",
    "            p.append(i)\n",
    "            yield i\n",
    "            \n",
    "        i += 1\n",
    "        \n",
    "prime_gen = prime_num()\n",
    "for a in range(20):\n",
    "    print(next(prime_gen))"
   ]
  }
 ],
 "metadata": {
  "kernelspec": {
   "display_name": "Python 3 (ipykernel)",
   "language": "python",
   "name": "python3"
  },
  "language_info": {
   "codemirror_mode": {
    "name": "ipython",
    "version": 3
   },
   "file_extension": ".py",
   "mimetype": "text/x-python",
   "name": "python",
   "nbconvert_exporter": "python",
   "pygments_lexer": "ipython3",
   "version": "3.10.8"
  }
 },
 "nbformat": 4,
 "nbformat_minor": 5
}
