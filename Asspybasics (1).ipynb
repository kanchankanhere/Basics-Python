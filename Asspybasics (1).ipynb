{
 "cells": [
  {
   "cell_type": "markdown",
   "id": "7d65d218-646f-47c6-befd-6f7e8e0e2b28",
   "metadata": {},
   "source": [
    "Q1. Create one variable containing following type of data:\n",
    "(i) string\n",
    "(ii) list\n",
    "(iii) float\n",
    "(iv) tuple"
   ]
  },
  {
   "cell_type": "markdown",
   "id": "761cea76-0455-46b8-8f76-c70621d24300",
   "metadata": {},
   "source": [
    "Answers."
   ]
  },
  {
   "cell_type": "code",
   "execution_count": 17,
   "id": "7e4f2b07-704f-4e7c-b377-b0ef8d67e921",
   "metadata": {},
   "outputs": [
    {
     "name": "stdout",
     "output_type": "stream",
     "text": [
      "<class 'str'>\n",
      "<class 'list'>\n",
      "<class 'float'>\n",
      "<class 'tuple'>\n"
     ]
    }
   ],
   "source": [
    "string = \"Kanchan\"\n",
    "\n",
    "list = [23, 56, 'kanchan', \"Apple\", 45+89j ]\n",
    "\n",
    "float = 12.797878\n",
    "\n",
    "tuple = (34, 67, \"Data\", 'cheery', 2.45)\n",
    "\n",
    "print(type(string))\n",
    "print(type(list))\n",
    "print(type(float))\n",
    "print(type(tuple))"
   ]
  },
  {
   "cell_type": "markdown",
   "id": "6015fe62-b6f4-4a39-b084-2b10c2acc479",
   "metadata": {},
   "source": [
    "Q2. Given are some following variables containing data:\n",
    "(i) var1 = ‘ ‘\n",
    "(ii) var2 = ‘[ DS , ML , Python]’\n",
    "(iii) var3 = [ ‘DS’ , ’ML’ , ‘Python’ ]\n",
    "(iv) var4 = 1.\n",
    "\n",
    "What will be the data type of the above given variable."
   ]
  },
  {
   "cell_type": "markdown",
   "id": "ccd07ddb-05e1-4170-a3e8-24b4ad1b0b99",
   "metadata": {},
   "source": [
    "Answers"
   ]
  },
  {
   "cell_type": "markdown",
   "id": "5510d16c-eed0-40c0-a38d-cf4b73e5763e",
   "metadata": {},
   "source": [
    "(i)    string\n",
    "(ii)   string\n",
    "(iii)  list\n",
    "(iv)   float"
   ]
  },
  {
   "cell_type": "markdown",
   "id": "05012f56-f4b2-47fd-ba7d-05500ba98ec3",
   "metadata": {},
   "source": [
    "Q3. Explain the use of the following operators using an example:\n",
    "(i) /\n",
    "(ii) %\n",
    "(iii) //\n",
    "(iv) **"
   ]
  },
  {
   "cell_type": "markdown",
   "id": "bb6e5477-672e-4f91-86d7-d6bcd8961026",
   "metadata": {},
   "source": [
    "Answers"
   ]
  },
  {
   "cell_type": "code",
   "execution_count": 45,
   "id": "c3baee8e-14c8-47e0-90d1-793641296afe",
   "metadata": {},
   "outputs": [
    {
     "name": "stdout",
     "output_type": "stream",
     "text": [
      "2.5\n",
      "1\n",
      "5\n",
      "134217728\n"
     ]
    }
   ],
   "source": [
    "# (i) Division operator or Float Division (/)- This will divide and provide the result in floating value.\n",
    "# example\n",
    "x = 5\n",
    "y = 2\n",
    "print(x / y)\n",
    "\n",
    "# (ii) Modulus Operator (%)- This will provide the remainder after the calculation(division)\n",
    "# example\n",
    "a = 7\n",
    "b = 2\n",
    "print(a%b)\n",
    "\n",
    "# (iii) Floor Division Operator or Integer Division (//)- This will divide and truncate the decimal and provide the integer value.\n",
    "# example\n",
    "a = 134\n",
    "b = 24\n",
    "print(a//b)\n",
    "\n",
    "# (iv) \tExponentiation Operator (**)- This will help us to calculate a power b and return the resukt \n",
    "# exapmle\n",
    "a = 8\n",
    "b = 9\n",
    "print(a**b)"
   ]
  },
  {
   "cell_type": "markdown",
   "id": "afd432df-27dc-4297-94f6-0c328492f6ec",
   "metadata": {},
   "source": [
    "Q4. Create a list of length 10 of your choice containing multiple types of data. Using for loop print the\n",
    "element and its data type."
   ]
  },
  {
   "cell_type": "markdown",
   "id": "77dc8779-2311-40ca-af7a-950d1a305c5c",
   "metadata": {},
   "source": [
    "Answer"
   ]
  },
  {
   "cell_type": "code",
   "execution_count": 91,
   "id": "b1ffdb8f-8392-4c43-b3cb-39f64bb035cd",
   "metadata": {},
   "outputs": [
    {
     "name": "stdout",
     "output_type": "stream",
     "text": [
      "21 <class 'int'>\n",
      "54.2 <class 'float'>\n",
      "Kanchan <class 'str'>\n",
      "True <class 'bool'>\n",
      "(2+8j) <class 'complex'>\n",
      "Banana <class 'str'>\n",
      "False <class 'bool'>\n",
      "8.1212 <class 'float'>\n",
      "How are you <class 'str'>\n",
      "100 <class 'int'>\n"
     ]
    }
   ],
   "source": [
    "l = [ 21, 54.2, 'Kanchan', True, 2+8j, \"Banana\", False, 8.1212, 'How are you', 100]\n",
    "for i in l:\n",
    "    print(i,type(i))"
   ]
  },
  {
   "cell_type": "markdown",
   "id": "0598f024-5a58-462c-b79b-7b5d873042cf",
   "metadata": {},
   "source": [
    "Q5. Using a while loop, verify if the number A is purely divisible by number B and if so then how many\n",
    "times it can be divisible."
   ]
  },
  {
   "cell_type": "markdown",
   "id": "0cc4fc8b-58c8-4beb-b334-483157d45f48",
   "metadata": {},
   "source": [
    "Answers"
   ]
  },
  {
   "cell_type": "code",
   "execution_count": null,
   "id": "a6743d64-2ff6-4620-b310-75c0f478a5f0",
   "metadata": {},
   "outputs": [
    {
     "name": "stdin",
     "output_type": "stream",
     "text": [
      "enter the value of A 125\n"
     ]
    }
   ],
   "source": [
    "A = int(input('enter the value of A'))\n",
    "B = int(input('enter the value of B'))\n",
    "\n",
    "x = 0\n",
    "\n",
    "while A % B == 0 :\n",
    "    A= A//B\n",
    "    x = x + 1\n",
    "\n",
    "if x>0 :\n",
    "    print('{A} is divisible by {B}')\n",
    "    print('{A} can be divided by {B}', x,'times')\n",
    "    \n",
    "else:\n",
    "    print('{A} is not divisible by {B}')"
   ]
  },
  {
   "cell_type": "markdown",
   "id": "466fb79c-fdaf-4ad4-8b07-328446d41f88",
   "metadata": {},
   "source": [
    "Q6. Create a list containing 25 int type data. Using for loop and if-else condition print if the element is\n",
    "divisible by 3 or not."
   ]
  },
  {
   "cell_type": "markdown",
   "id": "2b0e12f5-a2a4-4104-ab5d-1630e6ad05e5",
   "metadata": {},
   "source": [
    "Answers"
   ]
  },
  {
   "cell_type": "code",
   "execution_count": 26,
   "id": "043e187d-7155-4ec9-9b65-77468178447e",
   "metadata": {},
   "outputs": [
    {
     "name": "stdout",
     "output_type": "stream",
     "text": [
      "22 is not divisible by 3\n",
      "24 is divisible by 3\n",
      "13 is not divisible by 3\n",
      "88 is not divisible by 3\n",
      "32 is not divisible by 3\n",
      "33 is divisible by 3\n",
      "15 is divisible by 3\n",
      "76 is not divisible by 3\n",
      "89 is not divisible by 3\n",
      "91 is not divisible by 3\n",
      "99 is divisible by 3\n",
      "56 is not divisible by 3\n",
      "77 is not divisible by 3\n",
      "36 is divisible by 3\n",
      "27 is divisible by 3\n",
      "29 is not divisible by 3\n",
      "20 is not divisible by 3\n",
      "30 is divisible by 3\n",
      "140 is not divisible by 3\n",
      "137 is not divisible by 3\n",
      "189 is divisible by 3\n",
      "120 is divisible by 3\n",
      "380 is not divisible by 3\n",
      "4500 is divisible by 3\n",
      "2637 is divisible by 3\n"
     ]
    }
   ],
   "source": [
    "list = [22,24,13,88,32,33,15,76,89,91,99,56,77,36,27,29,20,30,140,137,189,120,380,4500,2637]\n",
    "\n",
    "for l in list:\n",
    "    if l % 3 == 0:\n",
    "         print(l,\"is divisible by 3\")\n",
    "    else:\n",
    "        print(l,\"is not divisible by 3\")"
   ]
  },
  {
   "cell_type": "markdown",
   "id": "21b62735-656c-4c2e-b91e-c74168618d7e",
   "metadata": {},
   "source": [
    "Q7. What do you understand about mutable and immutable data types? Give examples for both showing\n",
    "this property."
   ]
  },
  {
   "cell_type": "code",
   "execution_count": 39,
   "id": "56f96e64-c7ed-47da-8117-39dd20f7b008",
   "metadata": {},
   "outputs": [
    {
     "name": "stdout",
     "output_type": "stream",
     "text": [
      "[11, 45, 'Kanchan', 2.45, 'I am fine']\n"
     ]
    }
   ],
   "source": [
    "#Answer\n",
    "\"\"\"\n",
    "MUTABLE :- \n",
    "An object is considered mutable if its value can be changed after it has been created.\n",
    "It can be modified either in terms of state or contents after they have been created. \n",
    "The mutable objects that are present in python are lists, dictionaries and sets. \n",
    "Since lists, sets & dictionaries are mutable, we can add, delete & modify its contents\n",
    "\n",
    "IMMUTABLE :- \n",
    "An object is considered immutable if its value cannot be changed after it has been created.It cannot be modified once they are created.\n",
    "The immutable objects that are present in python are  strings, tuples, and numbers.\n",
    "Since integers, float, strings, tuples are immutable, internal state (data) can not be changed.\n",
    "\"\"\"\n",
    "#List examples\n",
    "my_list = [11,45,\"Kanchan\",2.45,'I am fine']\n",
    "\n",
    "print(my_list)"
   ]
  },
  {
   "cell_type": "code",
   "execution_count": 40,
   "id": "992209d2-c48c-45c0-b8cf-5a873ac395f1",
   "metadata": {},
   "outputs": [
    {
     "name": "stdout",
     "output_type": "stream",
     "text": [
      "[11, 45, 'Kanchan', 2.45, 'I am fine', 100]\n"
     ]
    }
   ],
   "source": [
    "my_list.append(100)\n",
    "print(my_list)"
   ]
  },
  {
   "cell_type": "code",
   "execution_count": 47,
   "id": "13a7701f-2162-4e9f-a65d-e73e66485fd6",
   "metadata": {},
   "outputs": [
    {
     "name": "stdout",
     "output_type": "stream",
     "text": [
      "Kanchan\n"
     ]
    }
   ],
   "source": [
    "#string example\n",
    "k = 'Kanchan'\n",
    "print(k)"
   ]
  },
  {
   "cell_type": "code",
   "execution_count": 48,
   "id": "5c87c4d0-4603-4887-bf37-efd8cb0c8a7a",
   "metadata": {},
   "outputs": [
    {
     "name": "stdout",
     "output_type": "stream",
     "text": [
      "Kanchan Kanhere\n"
     ]
    }
   ],
   "source": [
    "K = k +' Kanhere'\n",
    "print(K)"
   ]
  }
 ],
 "metadata": {
  "kernelspec": {
   "display_name": "Python 3 (ipykernel)",
   "language": "python",
   "name": "python3"
  },
  "language_info": {
   "codemirror_mode": {
    "name": "ipython",
    "version": 3
   },
   "file_extension": ".py",
   "mimetype": "text/x-python",
   "name": "python",
   "nbconvert_exporter": "python",
   "pygments_lexer": "ipython3",
   "version": "3.10.8"
  }
 },
 "nbformat": 4,
 "nbformat_minor": 5
}
