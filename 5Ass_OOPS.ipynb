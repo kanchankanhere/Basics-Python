{
 "cells": [
  {
   "cell_type": "markdown",
   "id": "f68d06bf-2a94-4127-ad99-e3188408c4e2",
   "metadata": {},
   "source": [
    "Q1. Explain Class and Object with respect to Object-Oriented Programming. Give a suitable example."
   ]
  },
  {
   "cell_type": "markdown",
   "id": "26b80b2e-b68e-4d8a-8578-b28ae460ba65",
   "metadata": {},
   "source": [
    "Answer"
   ]
  },
  {
   "cell_type": "code",
   "execution_count": 10,
   "id": "ee8f77d5-82ad-4d5e-b924-047cfbcbf072",
   "metadata": {},
   "outputs": [
    {
     "data": {
      "text/plain": [
       "'This is my week4 class.'"
      ]
     },
     "execution_count": 10,
     "metadata": {},
     "output_type": "execute_result"
    }
   ],
   "source": [
    "\"\"\"\n",
    "Class- \n",
    "A Class is like an object constructor, or a \"blueprint\" for creating objects. \n",
    "It allows to define the attributes and behaviors of objects of a particular type.\n",
    "\"\"\"\n",
    "#example\n",
    "\n",
    "class test:\n",
    "    pass\n",
    "\n",
    "class test:\n",
    "    \n",
    "    def fun(self):\n",
    "        return \"This is my week4 class.\"\n",
    "    \n",
    "a = test()\n",
    "a.fun()"
   ]
  },
  {
   "cell_type": "code",
   "execution_count": 2,
   "id": "d7d4762a-7689-4834-a423-9f942ca398ef",
   "metadata": {},
   "outputs": [],
   "source": [
    "\"\"\"\n",
    "Object-\n",
    "It is an instance of a class, which represents real world entities such as a person, a car, a bank account etc.\n",
    "Everything in python is an object, including data types such as numbers, strings and lists.\n",
    "\"\"\"\n",
    "#example\n",
    "# In above exapmle of class \"a = test()\", a is the object.\n",
    "x = 12 #12 is an object of int class\n",
    "y = \"Hello\" # \"Hello\" is an object of str class\n",
    "z = [1,2,6,78] # [1,2,6,78] is an object of list class"
   ]
  },
  {
   "cell_type": "markdown",
   "id": "997ee998-e2d6-4120-a4a1-bbcb07e84867",
   "metadata": {},
   "source": [
    "Q2. Name the four pillars of OOPs."
   ]
  },
  {
   "cell_type": "markdown",
   "id": "65702041-9e12-483b-b15e-8d4670ea7d16",
   "metadata": {},
   "source": [
    "Answer"
   ]
  },
  {
   "cell_type": "code",
   "execution_count": null,
   "id": "ecee43fc-f199-423c-bd99-165de1e2f126",
   "metadata": {},
   "outputs": [],
   "source": [
    "#The four pillars of OOPs are-\n",
    "\n",
    "#a) Polymorphism - The word \"polymorphism\" means \"many forms\".\n",
    "#It refers to methods/functions/operators with the same name that can be executed on many objects or classes.\n",
    "\n",
    "#b) Encapsulation- The mechanism of wrapping data and functions within an object, \n",
    "#making it inaccessible to the outside world and protected from accidental corruption.\n",
    "\n",
    "#c) Inheritance- It allows a class that inherits all the methods and properties from another class.\n",
    "#It allows new classes to be derived from an existing classes, creating a hierarchy  of classes that share common attributes and methods.\n",
    "\n",
    "#d) Abstraction- The process of hiding complex implementation details and exposing only necessary information to the user."
   ]
  },
  {
   "cell_type": "markdown",
   "id": "f60544bc-ee53-4101-96b5-cd7f2d9249ad",
   "metadata": {},
   "source": [
    "Q3. Explain why the __init__() function is used. Give a suitable example."
   ]
  },
  {
   "cell_type": "markdown",
   "id": "08ffdfc2-68e9-4f8f-af3c-8d68cedac653",
   "metadata": {},
   "source": [
    "Answer"
   ]
  },
  {
   "cell_type": "code",
   "execution_count": 13,
   "id": "f04f3178-a935-4427-aead-74feaca59515",
   "metadata": {},
   "outputs": [
    {
     "name": "stdout",
     "output_type": "stream",
     "text": [
      "Kanchan\n",
      "26\n"
     ]
    }
   ],
   "source": [
    "# The __init__() function is also called as constructor.\n",
    "#It is used to initialize the attributes of the object.\n",
    "#It assign values to object properties, or other operations that are necessary to do when the object is being created.\n",
    "\n",
    "#example\n",
    "class person:\n",
    "    def __init__(self, name, age):\n",
    "        self.name = name\n",
    "        self.age = age\n",
    "        \n",
    "p1 = person(\"Kanchan\", 26)\n",
    "\n",
    "print(p1.name)\n",
    "print(p1.age)"
   ]
  },
  {
   "cell_type": "markdown",
   "id": "afe838cd-185a-437d-871c-f511f3b36fd7",
   "metadata": {},
   "source": [
    "Q4. Why self is used in OOPs?"
   ]
  },
  {
   "cell_type": "markdown",
   "id": "92cd5811-dcb2-48e7-abdc-a61b18e9bf07",
   "metadata": {},
   "source": [
    "Answer"
   ]
  },
  {
   "cell_type": "code",
   "execution_count": 14,
   "id": "7d41274c-38ce-47af-9c3b-bfd3c40ba66a",
   "metadata": {},
   "outputs": [
    {
     "name": "stdout",
     "output_type": "stream",
     "text": [
      "BMW\n",
      "2022\n"
     ]
    }
   ],
   "source": [
    "# The self parameter is a reference to the current instance of the class,\n",
    "# and it is used to access variables that belongs to the class.\n",
    "# It does not have to be named self , you can call it whatever you like, but it has to be the first parameter of any function in the class.\n",
    "\n",
    "#example-\n",
    "# Use the words Kanchan instead of self:\n",
    "class car:\n",
    "    def __init__(Kanchan, model, year):\n",
    "        Kanchan.model = model\n",
    "        Kanchan.year = year\n",
    "        \n",
    "c = car(\"BMW\", 2022)\n",
    "\n",
    "print(c.model)\n",
    "print(c.year)\n",
    "        "
   ]
  },
  {
   "cell_type": "markdown",
   "id": "0f1a928d-af55-4275-aaf1-0ab8b0458037",
   "metadata": {},
   "source": [
    "Q5. What is inheritance? Give an example for each type of inheritance."
   ]
  },
  {
   "cell_type": "markdown",
   "id": "1128304d-99f1-4adb-852c-40a8b0d99d0f",
   "metadata": {},
   "source": [
    "Answer"
   ]
  },
  {
   "cell_type": "code",
   "execution_count": 1,
   "id": "9cd3370b-d7c6-4ff9-bcaf-4e59ff5ce0eb",
   "metadata": {},
   "outputs": [],
   "source": [
    "#Inheritance:\n",
    "#It allows a class that inherits all the methods and properties from another class.\n",
    "#It allows new classes to be derived from an existing classes, creating a hierarchy  of classes that share common attributes and methods.\n",
    "#It is the process of using one class features in another one.\n",
    "class class1:\n",
    "    def test1(Kanchu):\n",
    "        print(\"This is my first class\")\n",
    "\n",
    "class class2(class1):\n",
    "    pass"
   ]
  },
  {
   "cell_type": "code",
   "execution_count": 2,
   "id": "45b172b3-a85e-4606-9c43-31ed9c79433c",
   "metadata": {},
   "outputs": [],
   "source": [
    "obj = class2()"
   ]
  },
  {
   "cell_type": "code",
   "execution_count": 3,
   "id": "e7f1d022-34b1-4cf8-9225-61614860d912",
   "metadata": {},
   "outputs": [
    {
     "name": "stdout",
     "output_type": "stream",
     "text": [
      "This is my first class\n"
     ]
    }
   ],
   "source": [
    "obj.test1()"
   ]
  },
  {
   "cell_type": "code",
   "execution_count": 4,
   "id": "085a8eec-4ae8-4489-9b05-73bb474bdc77",
   "metadata": {},
   "outputs": [],
   "source": [
    "#There are two types of Inheritances\n",
    "#1) Multilevel 2)Multiple"
   ]
  },
  {
   "cell_type": "code",
   "execution_count": 5,
   "id": "a713b56d-3ab6-4f26-828b-be506e7a0d9c",
   "metadata": {},
   "outputs": [],
   "source": [
    "# Multilevel Inheritance- where class1 is assessed by class2, class2 is accessed by class3 and so on\n",
    "class class1:\n",
    "    def class1test(self):\n",
    "        print(\"This is my class 1\")\n",
    "class class2(class1):\n",
    "    def class2test(self):\n",
    "        print(\"This is my class 2\")\n",
    "class class3(class2):\n",
    "    pass"
   ]
  },
  {
   "cell_type": "code",
   "execution_count": 6,
   "id": "088597a5-8150-4d16-9e83-2f3f0f1c38b6",
   "metadata": {},
   "outputs": [],
   "source": [
    "obj = class3()"
   ]
  },
  {
   "cell_type": "code",
   "execution_count": 8,
   "id": "3f52d2be-6936-4ef3-a1a1-a152b7d4723a",
   "metadata": {},
   "outputs": [
    {
     "name": "stdout",
     "output_type": "stream",
     "text": [
      "This is my class 1\n"
     ]
    }
   ],
   "source": [
    "obj.class1test()"
   ]
  },
  {
   "cell_type": "code",
   "execution_count": 9,
   "id": "d96e160d-d7e4-4229-ae40-b3e2fd9a8d18",
   "metadata": {},
   "outputs": [
    {
     "name": "stdout",
     "output_type": "stream",
     "text": [
      "This is my class 2\n"
     ]
    }
   ],
   "source": [
    "obj.class2test()"
   ]
  },
  {
   "cell_type": "code",
   "execution_count": 10,
   "id": "768a5fa1-1d7c-464d-978e-a124f18c474c",
   "metadata": {},
   "outputs": [],
   "source": [
    "# Multiple Inheritance- where one class inherits from several other classes.\n",
    "class class1:\n",
    "    def class1test(self):\n",
    "        print(\"This is my class 1\")\n",
    "class class2:\n",
    "    def class2test(self):\n",
    "        print(\"This is my class 2\")\n",
    "class class3(class1, class2):\n",
    "    pass"
   ]
  },
  {
   "cell_type": "code",
   "execution_count": 11,
   "id": "66ae9bdf-e6de-412b-a627-839dc3bddb62",
   "metadata": {},
   "outputs": [],
   "source": [
    "obj = class3()"
   ]
  },
  {
   "cell_type": "code",
   "execution_count": 12,
   "id": "376b1ed6-573e-4d03-ae59-1f8c050f643f",
   "metadata": {},
   "outputs": [
    {
     "name": "stdout",
     "output_type": "stream",
     "text": [
      "This is my class 1\n"
     ]
    }
   ],
   "source": [
    "obj.class1test()"
   ]
  },
  {
   "cell_type": "code",
   "execution_count": 13,
   "id": "518a68c8-d7ef-4d1a-b64d-6567ebe1c02a",
   "metadata": {},
   "outputs": [
    {
     "name": "stdout",
     "output_type": "stream",
     "text": [
      "This is my class 2\n"
     ]
    }
   ],
   "source": [
    "obj.class2test()"
   ]
  }
 ],
 "metadata": {
  "kernelspec": {
   "display_name": "Python 3 (ipykernel)",
   "language": "python",
   "name": "python3"
  },
  "language_info": {
   "codemirror_mode": {
    "name": "ipython",
    "version": 3
   },
   "file_extension": ".py",
   "mimetype": "text/x-python",
   "name": "python",
   "nbconvert_exporter": "python",
   "pygments_lexer": "ipython3",
   "version": "3.10.8"
  }
 },
 "nbformat": 4,
 "nbformat_minor": 5
}
