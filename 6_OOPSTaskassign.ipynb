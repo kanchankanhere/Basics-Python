{
 "cells": [
  {
   "cell_type": "markdown",
   "id": "3f67a08a-e547-4047-95dd-be1154c5719b",
   "metadata": {},
   "source": [
    "Q1, Create a vehicle class with an init method having instance variables as name_of_vehicle, max_speed\n",
    "and average_of_vehicle."
   ]
  },
  {
   "cell_type": "code",
   "execution_count": 1,
   "id": "6c963244-b49e-4df0-93f1-1c9f8d7f5e5a",
   "metadata": {},
   "outputs": [],
   "source": [
    "# Answer\n",
    "class vehicle :\n",
    "    def __init__(self, name, speed, average) :\n",
    "        self.name_of_vehicle = name\n",
    "        self.max_speed = speed\n",
    "        self.average_of_vehicle = average"
   ]
  },
  {
   "cell_type": "code",
   "execution_count": 2,
   "id": "2a6af3ce-d1b8-4052-a2f9-734eb18b1ad4",
   "metadata": {},
   "outputs": [],
   "source": [
    "veh = vehicle(\"Thar\", 100, 120)"
   ]
  },
  {
   "cell_type": "code",
   "execution_count": 4,
   "id": "27a4bc23-a873-42f8-b875-b08a635aef47",
   "metadata": {},
   "outputs": [
    {
     "data": {
      "text/plain": [
       "'Thar'"
      ]
     },
     "execution_count": 4,
     "metadata": {},
     "output_type": "execute_result"
    }
   ],
   "source": [
    "veh.name_of_vehicle"
   ]
  },
  {
   "cell_type": "code",
   "execution_count": 5,
   "id": "e03ef81a-1260-4e6e-bf1a-c2e952834c14",
   "metadata": {},
   "outputs": [
    {
     "data": {
      "text/plain": [
       "120"
      ]
     },
     "execution_count": 5,
     "metadata": {},
     "output_type": "execute_result"
    }
   ],
   "source": [
    "veh.average_of_vehicle"
   ]
  },
  {
   "cell_type": "code",
   "execution_count": 6,
   "id": "8e8a850c-1ca9-463a-8d28-ff95a8b190fe",
   "metadata": {},
   "outputs": [
    {
     "data": {
      "text/plain": [
       "100"
      ]
     },
     "execution_count": 6,
     "metadata": {},
     "output_type": "execute_result"
    }
   ],
   "source": [
    "veh.max_speed"
   ]
  },
  {
   "cell_type": "markdown",
   "id": "998faed4-9e66-494a-80be-0f16d9c443ac",
   "metadata": {},
   "source": [
    "Q2. Create a child class car from the vehicle class created in Que 1, which will inherit the vehicle class.\n",
    "Create a method named seating_capacity which takes capacity as an argument and returns the name of\n",
    "the vehicle and its seating capacity."
   ]
  },
  {
   "cell_type": "code",
   "execution_count": 7,
   "id": "272001c9-05f1-4104-a86a-ad2829e7dab2",
   "metadata": {},
   "outputs": [],
   "source": [
    "# Answer\n",
    "class child(vehicle) :\n",
    "    def seating_capacity(self, seating_capacity) :\n",
    "        return \"name of vehicle is \"+str(self.name_of_vehicle)+\" and capacity is \"+str(seating_capacity)"
   ]
  },
  {
   "cell_type": "code",
   "execution_count": 8,
   "id": "ed29ad1a-babd-4e4b-8b7f-7e57ff45ee83",
   "metadata": {},
   "outputs": [],
   "source": [
    "veh2 = child(\"Thar\", 100, 120)"
   ]
  },
  {
   "cell_type": "code",
   "execution_count": 9,
   "id": "d13ce5a6-bb76-4581-8ceb-58a7d5aa4964",
   "metadata": {},
   "outputs": [
    {
     "data": {
      "text/plain": [
       "'name of vehicle is Thar and capacity is 5'"
      ]
     },
     "execution_count": 9,
     "metadata": {},
     "output_type": "execute_result"
    }
   ],
   "source": [
    "veh2.seating_capacity(5)"
   ]
  },
  {
   "cell_type": "markdown",
   "id": "91fb85e8-b8d4-48a2-9586-dc16b51271b3",
   "metadata": {},
   "source": [
    "Q3. What is multiple inheritance? Write a python code to demonstrate multiple inheritance."
   ]
  },
  {
   "cell_type": "code",
   "execution_count": 10,
   "id": "d2d482a0-f6b5-4c9e-9da5-fa852446a88c",
   "metadata": {},
   "outputs": [],
   "source": [
    "# Answer\n",
    "# Multiple Inheritance- where one class inherits from several other classes.\n",
    "class A :\n",
    "    def test1(self) :\n",
    "        print(\"This is A\")\n",
    "\n",
    "class B :\n",
    "    def test2(self) :\n",
    "        print(\"This is B\")\n",
    "        \n",
    "class C(A,B) :\n",
    "    pass       "
   ]
  },
  {
   "cell_type": "code",
   "execution_count": 12,
   "id": "24bbd649-e675-48ea-97f0-c4baf878066d",
   "metadata": {},
   "outputs": [],
   "source": [
    "obj = C()"
   ]
  },
  {
   "cell_type": "code",
   "execution_count": 13,
   "id": "6fec5484-62db-4614-8abf-8f96378b95ed",
   "metadata": {},
   "outputs": [
    {
     "name": "stdout",
     "output_type": "stream",
     "text": [
      "This is A\n"
     ]
    }
   ],
   "source": [
    "obj.test1()"
   ]
  },
  {
   "cell_type": "code",
   "execution_count": 14,
   "id": "95e85119-7074-41a2-9c62-bf44f55cb926",
   "metadata": {},
   "outputs": [
    {
     "name": "stdout",
     "output_type": "stream",
     "text": [
      "This is B\n"
     ]
    }
   ],
   "source": [
    "obj.test2()"
   ]
  },
  {
   "cell_type": "markdown",
   "id": "e078c11c-7dff-41d4-91ae-af8d5874d999",
   "metadata": {},
   "source": [
    "Q4. What are getter and setter in python? Create a class and create a getter and a setter method in this\n",
    "class."
   ]
  },
  {
   "cell_type": "code",
   "execution_count": 15,
   "id": "762641c6-c168-4f55-adc3-745ed698976e",
   "metadata": {},
   "outputs": [],
   "source": [
    "#Answer\n",
    "# Getter is used to retreive values of object attributes ----- used as get\n",
    "# Setter is used to set values of object attributes      ----- used as set"
   ]
  },
  {
   "cell_type": "code",
   "execution_count": 16,
   "id": "d9eed1af-955e-4532-a51d-e4a0514b2b46",
   "metadata": {},
   "outputs": [],
   "source": [
    "class class1 :\n",
    "    def __init__(self, make, model, speed) :\n",
    "        self.make = make\n",
    "        self.model = model\n",
    "        self.speed = speed\n",
    "        \n",
    "    def get_speed(self) :\n",
    "        return self.speed\n",
    "    \n",
    "    def set_speed(self, spd) :\n",
    "        self.speed = spd\n",
    "        \n",
    "    def get_model(self) :\n",
    "        return self.model\n",
    "    \n",
    "    def set_model(self, mod) :\n",
    "        self.model = mod\n",
    "        \n",
    "    def get_make(self) :\n",
    "        return self.make\n",
    "    \n",
    "    def set_make(self, mk) :\n",
    "        self.make = mk"
   ]
  },
  {
   "cell_type": "code",
   "execution_count": 17,
   "id": "21852c2a-fcbb-4d4f-ba20-549a53ef4c8b",
   "metadata": {},
   "outputs": [],
   "source": [
    "ob = class1(\"BMW\", 3.0, 200)"
   ]
  },
  {
   "cell_type": "code",
   "execution_count": 19,
   "id": "ebb09610-2a38-42af-8c3e-46e1e8d64d4c",
   "metadata": {},
   "outputs": [
    {
     "data": {
      "text/plain": [
       "'BMW'"
      ]
     },
     "execution_count": 19,
     "metadata": {},
     "output_type": "execute_result"
    }
   ],
   "source": [
    "ob.get_make()"
   ]
  },
  {
   "cell_type": "code",
   "execution_count": 20,
   "id": "bdac2463-3190-405e-93cd-a0bf5d75a6ac",
   "metadata": {},
   "outputs": [
    {
     "data": {
      "text/plain": [
       "3.0"
      ]
     },
     "execution_count": 20,
     "metadata": {},
     "output_type": "execute_result"
    }
   ],
   "source": [
    "ob.get_model()"
   ]
  },
  {
   "cell_type": "code",
   "execution_count": 21,
   "id": "e1c5cf42-2145-48c4-b0c8-b260ec30f6fe",
   "metadata": {},
   "outputs": [
    {
     "data": {
      "text/plain": [
       "200"
      ]
     },
     "execution_count": 21,
     "metadata": {},
     "output_type": "execute_result"
    }
   ],
   "source": [
    "ob.get_speed()"
   ]
  },
  {
   "cell_type": "code",
   "execution_count": 22,
   "id": "a9288c8a-921e-4ddf-8578-21a0b008f6f2",
   "metadata": {},
   "outputs": [],
   "source": [
    "ob.set_make(\"Audi\")"
   ]
  },
  {
   "cell_type": "code",
   "execution_count": 23,
   "id": "dfe61a0c-4704-4a00-818c-5cbafb3976a7",
   "metadata": {},
   "outputs": [
    {
     "data": {
      "text/plain": [
       "'Audi'"
      ]
     },
     "execution_count": 23,
     "metadata": {},
     "output_type": "execute_result"
    }
   ],
   "source": [
    "ob.get_make()"
   ]
  },
  {
   "cell_type": "code",
   "execution_count": 24,
   "id": "471866b3-358b-4ac9-95ad-02382ee8910e",
   "metadata": {},
   "outputs": [],
   "source": [
    "ob.set_speed(120)"
   ]
  },
  {
   "cell_type": "code",
   "execution_count": 25,
   "id": "c41b3c8d-f216-4a88-ade8-a7390131eab2",
   "metadata": {},
   "outputs": [
    {
     "data": {
      "text/plain": [
       "120"
      ]
     },
     "execution_count": 25,
     "metadata": {},
     "output_type": "execute_result"
    }
   ],
   "source": [
    "ob.get_speed()"
   ]
  },
  {
   "cell_type": "code",
   "execution_count": 26,
   "id": "df4eefa5-5a1e-4a19-9477-2b0aa40a4537",
   "metadata": {},
   "outputs": [],
   "source": [
    "ob.set_model(5.0)"
   ]
  },
  {
   "cell_type": "code",
   "execution_count": 27,
   "id": "7dfc52e0-0558-4ab4-af46-aaad07987877",
   "metadata": {},
   "outputs": [
    {
     "data": {
      "text/plain": [
       "5.0"
      ]
     },
     "execution_count": 27,
     "metadata": {},
     "output_type": "execute_result"
    }
   ],
   "source": [
    "ob.get_model()"
   ]
  },
  {
   "cell_type": "markdown",
   "id": "e8d2cea3-c530-44c4-aa47-66bb495f9cf8",
   "metadata": {},
   "source": [
    "Q5.What is method overriding in python? Write a python code to demonstrate method overriding."
   ]
  },
  {
   "cell_type": "code",
   "execution_count": 28,
   "id": "f13eedd7-923c-4328-b6bb-c1dd7eedc9d9",
   "metadata": {},
   "outputs": [],
   "source": [
    "#Answer\n",
    "# Method overriding in Python is a feature of OOPS that allows implementation of a method that is already defined in its superclass."
   ]
  },
  {
   "cell_type": "code",
   "execution_count": 29,
   "id": "a17915b8-fbc6-4413-ad1e-977e0a1a7e5b",
   "metadata": {},
   "outputs": [],
   "source": [
    "class classA :\n",
    "    def out(self) :\n",
    "        return \"This is a class A\"\n",
    "    \n",
    "class classB(classA) :\n",
    "    def out(self) :\n",
    "        return \"this is a class B\""
   ]
  },
  {
   "cell_type": "code",
   "execution_count": 30,
   "id": "966786d9-12cc-4b50-ba71-d54ebaf26428",
   "metadata": {},
   "outputs": [],
   "source": [
    "ob = classB()"
   ]
  },
  {
   "cell_type": "code",
   "execution_count": 31,
   "id": "8b5e19f3-1134-40be-995c-a9aca43b5b08",
   "metadata": {},
   "outputs": [
    {
     "data": {
      "text/plain": [
       "'this is a class B'"
      ]
     },
     "execution_count": 31,
     "metadata": {},
     "output_type": "execute_result"
    }
   ],
   "source": [
    "ob.out()"
   ]
  }
 ],
 "metadata": {
  "kernelspec": {
   "display_name": "Python 3 (ipykernel)",
   "language": "python",
   "name": "python3"
  },
  "language_info": {
   "codemirror_mode": {
    "name": "ipython",
    "version": 3
   },
   "file_extension": ".py",
   "mimetype": "text/x-python",
   "name": "python",
   "nbconvert_exporter": "python",
   "pygments_lexer": "ipython3",
   "version": "3.10.8"
  }
 },
 "nbformat": 4,
 "nbformat_minor": 5
}
